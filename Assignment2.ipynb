{
 "cells": [
  {
   "cell_type": "code",
   "execution_count": 3,
   "id": "7e9a568c-f123-4f42-ba74-4e7ff16e20f8",
   "metadata": {},
   "outputs": [
    {
     "name": "stdout",
     "output_type": "stream",
     "text": [
      "Requirement already satisfied: sympy in d:\\programs\\python312\\lib\\site-packages (1.12)Note: you may need to restart the kernel to use updated packages.\n",
      "\n",
      "Requirement already satisfied: mpmath>=0.19 in d:\\programs\\python312\\lib\\site-packages (from sympy) (1.3.0)\n"
     ]
    }
   ],
   "source": [
    "pip install sympy"
   ]
  },
  {
   "cell_type": "code",
   "execution_count": 4,
   "id": "fc1e085f-8a72-4cea-9a60-c965a2dc16b9",
   "metadata": {},
   "outputs": [
    {
     "name": "stdout",
     "output_type": "stream",
     "text": [
      "Prime number: 92701132715120922051827030805143529149381\n"
     ]
    }
   ],
   "source": [
    "import random\n",
    "from sympy import isprime\n",
    "\n",
    "# Mapping of letters to numbers\n",
    "letter_to_number = {chr(i): i - 64 for i in range(65, 91)}\n",
    "letter_to_number[' '] = 27\n",
    "\n",
    "# Define the phrase with your name\n",
    "phrase = \"I am Oliver Chen\"\n",
    "\n",
    "# Convert the phrase to a number\n",
    "number = int(''.join([str(letter_to_number[char.upper()]).zfill(2) for char in phrase if char.upper() in letter_to_number]))\n",
    "\n",
    "# Add 10 random digits at the end to obtain a 100-digit number\n",
    "while True:\n",
    "    test_number = number * 10**10 + random.randint(10**9, 10**10 - 1)\n",
    "    if isprime(test_number):\n",
    "        prime_number = test_number\n",
    "        break\n",
    "\n",
    "# Output the prime number\n",
    "print(\"Prime number:\", prime_number)\n"
   ]
  },
  {
   "cell_type": "code",
   "execution_count": 5,
   "id": "17d8c92d-2ddd-4dbb-a77f-1548bd092ca3",
   "metadata": {},
   "outputs": [
    {
     "name": "stdout",
     "output_type": "stream",
     "text": [
      "Is prime: False\n"
     ]
    }
   ],
   "source": [
    "import random\n",
    "from sympy import mod_inverse\n",
    "\n",
    "def miller_rabin(n, k):\n",
    "    if n == 2 or n == 3:\n",
    "        return True\n",
    "    if n % 2 == 0 or n < 2:\n",
    "        return False\n",
    "\n",
    "    # Write n as 2^r * d + 1\n",
    "    r = 0\n",
    "    d = n - 1\n",
    "    while d % 2 == 0:\n",
    "        r += 1\n",
    "        d //= 2\n",
    "\n",
    "    for _ in range(k):\n",
    "        a = random.randint(2, n - 2)\n",
    "        x = pow(a, d, n)\n",
    "        if x == 1 or x == n - 1:\n",
    "            continue\n",
    "        for _ in range(r - 1):\n",
    "            x = pow(x, 2, n)\n",
    "            if x == n - 1:\n",
    "                break\n",
    "        else:\n",
    "            return False\n",
    "    return True\n",
    "\n",
    "# Test the algorithm\n",
    "n = 987654321012345678998765432101234567899876543210123456789987654321012345678998765432101234567899876543210123456789987654321012345678998765432101234567899876543210123456789987654321012345678998765432101234567899876543210123456789987654321012345678998765432101234567899876543210123456789987654321\n",
    "k = 10  # Number of iterations\n",
    "is_prime = miller_rabin(n, k)\n",
    "print(\"Is prime:\", is_prime)\n"
   ]
  },
  {
   "cell_type": "code",
   "execution_count": null,
   "id": "4cc4cf6a-0f63-4a2f-89b0-cc20136ef364",
   "metadata": {},
   "outputs": [],
   "source": []
  }
 ],
 "metadata": {
  "kernelspec": {
   "display_name": "Python 3 (ipykernel)",
   "language": "python",
   "name": "python3"
  },
  "language_info": {
   "codemirror_mode": {
    "name": "ipython",
    "version": 3
   },
   "file_extension": ".py",
   "mimetype": "text/x-python",
   "name": "python",
   "nbconvert_exporter": "python",
   "pygments_lexer": "ipython3",
   "version": "3.12.2"
  }
 },
 "nbformat": 4,
 "nbformat_minor": 5
}
