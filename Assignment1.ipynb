{
 "cells": [
  {
   "cell_type": "code",
   "execution_count": 2,
   "id": "64b3d08f-ce99-4985-bfb0-aa78e8c988b9",
   "metadata": {
    "collapsed": true,
    "jupyter": {
     "outputs_hidden": true
    }
   },
   "outputs": [
    {
     "name": "stdout",
     "output_type": "stream",
     "text": [
      "Collecting numpy\n",
      "  Downloading numpy-1.26.4-cp312-cp312-win_amd64.whl.metadata (61 kB)\n",
      "     ---------------------------------------- 0.0/61.0 kB ? eta -:--:--\n",
      "     ------------------------------- ------ 51.2/61.0 kB 871.5 kB/s eta 0:00:01\n",
      "     -------------------------------------- 61.0/61.0 kB 819.4 kB/s eta 0:00:00\n",
      "Downloading numpy-1.26.4-cp312-cp312-win_amd64.whl (15.5 MB)\n",
      "   ---------------------------------------- 0.0/15.5 MB ? eta -:--:--\n",
      "   - -------------------------------------- 0.5/15.5 MB 9.4 MB/s eta 0:00:02\n",
      "   -- ------------------------------------- 1.1/15.5 MB 14.3 MB/s eta 0:00:02\n",
      "   ---- ----------------------------------- 1.7/15.5 MB 12.1 MB/s eta 0:00:02\n",
      "   ------ --------------------------------- 2.4/15.5 MB 14.1 MB/s eta 0:00:01\n",
      "   ------- -------------------------------- 2.9/15.5 MB 14.1 MB/s eta 0:00:01\n",
      "   --------- ------------------------------ 3.7/15.5 MB 13.7 MB/s eta 0:00:01\n",
      "   ----------- ---------------------------- 4.4/15.5 MB 13.9 MB/s eta 0:00:01\n",
      "   ------------- -------------------------- 5.1/15.5 MB 14.1 MB/s eta 0:00:01\n",
      "   --------------- ------------------------ 5.8/15.5 MB 14.3 MB/s eta 0:00:01\n",
      "   ---------------- ----------------------- 6.5/15.5 MB 14.4 MB/s eta 0:00:01\n",
      "   ------------------ --------------------- 7.3/15.5 MB 14.6 MB/s eta 0:00:01\n",
      "   -------------------- ------------------- 8.0/15.5 MB 14.6 MB/s eta 0:00:01\n",
      "   ---------------------- ----------------- 8.7/15.5 MB 14.7 MB/s eta 0:00:01\n",
      "   ------------------------ --------------- 9.4/15.5 MB 14.7 MB/s eta 0:00:01\n",
      "   -------------------------- ------------- 10.2/15.5 MB 14.8 MB/s eta 0:00:01\n",
      "   --------------------------- ------------ 10.7/15.5 MB 14.9 MB/s eta 0:00:01\n",
      "   ----------------------------- ---------- 11.5/15.5 MB 15.6 MB/s eta 0:00:01\n",
      "   ------------------------------- -------- 12.3/15.5 MB 15.2 MB/s eta 0:00:01\n",
      "   -------------------------------- ------- 12.7/15.5 MB 15.2 MB/s eta 0:00:01\n",
      "   -------------------------------- ------- 12.7/15.5 MB 15.2 MB/s eta 0:00:01\n",
      "   ---------------------------------- ----- 13.2/15.5 MB 14.2 MB/s eta 0:00:01\n",
      "   ----------------------------------- ---- 13.8/15.5 MB 13.6 MB/s eta 0:00:01\n",
      "   ------------------------------------- -- 14.5/15.5 MB 13.9 MB/s eta 0:00:01\n",
      "   -------------------------------------- - 15.1/15.5 MB 13.6 MB/s eta 0:00:01\n",
      "   ---------------------------------------  15.5/15.5 MB 13.4 MB/s eta 0:00:01\n",
      "   ---------------------------------------- 15.5/15.5 MB 12.8 MB/s eta 0:00:00\n",
      "Installing collected packages: numpy\n",
      "Successfully installed numpy-1.26.4\n"
     ]
    }
   ],
   "source": [
    "!pip install numpy"
   ]
  },
  {
   "cell_type": "code",
   "execution_count": 3,
   "id": "2de7d0b8-2977-48dc-a00c-ab61f279466c",
   "metadata": {},
   "outputs": [
    {
     "name": "stdout",
     "output_type": "stream",
     "text": [
      "A non-trivial factor of 8051 is: 97\n"
     ]
    }
   ],
   "source": [
    "import numpy as np\n",
    "\n",
    "def is_prime_power(n):\n",
    "    if n < 2:\n",
    "        return False\n",
    "    for i in range(2, int(np.sqrt(n)) + 1):\n",
    "        if n % i == 0:\n",
    "            count = 0\n",
    "            while n % i == 0:\n",
    "                n //= i\n",
    "                count += 1\n",
    "            if n == 1:\n",
    "                return count > 1\n",
    "            else:\n",
    "                return False\n",
    "    return True\n",
    "\n",
    "def factorize(n):\n",
    "    if is_prime_power(n):\n",
    "        return None  # Input is a prime power, cannot factorize\n",
    "\n",
    "    a, b = 2, 2\n",
    "    while True:\n",
    "        a = (a**2 + 1) % n\n",
    "        b = (b**2 + 1) % n\n",
    "        b = (b**2 + 1) % n\n",
    "        d = np.gcd(a - b, n)\n",
    "        if 1 < d < n:\n",
    "            return d\n",
    "        if d == n:\n",
    "            return None\n",
    "\n",
    "# Test the algorithm\n",
    "n = 8051\n",
    "factor = factorize(n)\n",
    "if factor is None:\n",
    "    print(\"Input is a prime power.\")\n",
    "else:\n",
    "    print(\"A non-trivial factor of\", n, \"is:\", factor)\n"
   ]
  },
  {
   "cell_type": "code",
   "execution_count": 5,
   "id": "b4fc1d14-8394-4da3-ad71-3218c648cf80",
   "metadata": {},
   "outputs": [
    {
     "name": "stdout",
     "output_type": "stream",
     "text": [
      "On branch main\n",
      "Your branch is up to date with 'origin/main'.\n",
      "\n",
      "Changes to be committed:\n",
      "  (use \"git restore --staged <file>...\" to unstage)\n",
      "\tnew file:   .ipynb_checkpoints/README-checkpoint.md\n",
      "\n",
      "Untracked files:\n",
      "  (use \"git add <file>...\" to include in what will be committed)\n",
      "\t.ipynb_checkpoints/Assignment1-checkpoint.ipynb\n",
      "\tAssignment1.ipynb\n",
      "\n"
     ]
    }
   ],
   "source": [
    "!git status"
   ]
  },
  {
   "cell_type": "code",
   "execution_count": 9,
   "id": "082ddb47-8b53-4d3b-bb7a-65826bebd635",
   "metadata": {},
   "outputs": [
    {
     "name": "stderr",
     "output_type": "stream",
     "text": [
      "Author identity unknown\n",
      "\n",
      "*** Please tell me who you are.\n",
      "\n",
      "Run\n",
      "\n",
      "  git config --global user.email \"you@example.com\"\n",
      "  git config --global user.name \"Your Name\"\n",
      "\n",
      "to set your account's default identity.\n",
      "Omit --global to set the identity only in this repository.\n",
      "\n",
      "fatal: unable to auto-detect email address (got 'ABL_OC_1221@Laptop-OC.(none)')\n"
     ]
    }
   ],
   "source": [
    "!git commit"
   ]
  },
  {
   "cell_type": "code",
   "execution_count": 8,
   "id": "50523fc0-6b12-4117-abbb-71399894dcf1",
   "metadata": {},
   "outputs": [
    {
     "name": "stderr",
     "output_type": "stream",
     "text": [
      "Everything up-to-date\n"
     ]
    }
   ],
   "source": [
    "!git push"
   ]
  },
  {
   "cell_type": "code",
   "execution_count": null,
   "id": "51aa676e-39ec-4ef1-a115-ab3bf1ea53aa",
   "metadata": {},
   "outputs": [],
   "source": []
  }
 ],
 "metadata": {
  "kernelspec": {
   "display_name": "Python 3 (ipykernel)",
   "language": "python",
   "name": "python3"
  },
  "language_info": {
   "codemirror_mode": {
    "name": "ipython",
    "version": 3
   },
   "file_extension": ".py",
   "mimetype": "text/x-python",
   "name": "python",
   "nbconvert_exporter": "python",
   "pygments_lexer": "ipython3",
   "version": "3.12.2"
  }
 },
 "nbformat": 4,
 "nbformat_minor": 5
}
