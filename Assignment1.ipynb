{
 "cells": [
  {
   "cell_type": "code",
   "execution_count": 3,
   "id": "2de7d0b8-2977-48dc-a00c-ab61f279466c",
   "metadata": {},
   "outputs": [
    {
     "name": "stdout",
     "output_type": "stream",
     "text": [
      "A non-trivial factor of 8051 is: 97\n"
     ]
    }
   ],
   "source": [
    "import numpy as np\n",
    "\n",
    "def is_prime_power(n):\n",
    "    if n < 2:\n",
    "        return False\n",
    "    for i in range(2, int(np.sqrt(n)) + 1):\n",
    "        if n % i == 0:\n",
    "            count = 0\n",
    "            while n % i == 0:\n",
    "                n //= i\n",
    "                count += 1\n",
    "            if n == 1:\n",
    "                return count > 1\n",
    "            else:\n",
    "                return False\n",
    "    return True\n",
    "\n",
    "def factorize(n):\n",
    "    if is_prime_power(n):\n",
    "        return None  # Input is a prime power, cannot factorize\n",
    "\n",
    "    a, b = 2, 2\n",
    "    while True:\n",
    "        a = (a**2 + 1) % n\n",
    "        b = (b**2 + 1) % n\n",
    "        b = (b**2 + 1) % n\n",
    "        d = np.gcd(a - b, n)\n",
    "        if 1 < d < n:\n",
    "            return d\n",
    "        if d == n:\n",
    "            return None\n",
    "\n",
    "# Test the algorithm\n",
    "n = 8051\n",
    "factor = factorize(n)\n",
    "if factor is None:\n",
    "    print(\"Input is a prime power.\")\n",
    "else:\n",
    "    print(\"A non-trivial factor of\", n, \"is:\", factor)\n"
   ]
  },
  {
   "cell_type": "code",
   "execution_count": null,
   "id": "54202748-b9e7-4508-a612-b6b18702a539",
   "metadata": {},
   "outputs": [],
   "source": []
  }
 ],
 "metadata": {
  "kernelspec": {
   "display_name": "Python 3 (ipykernel)",
   "language": "python",
   "name": "python3"
  },
  "language_info": {
   "codemirror_mode": {
    "name": "ipython",
    "version": 3
   },
   "file_extension": ".py",
   "mimetype": "text/x-python",
   "name": "python",
   "nbconvert_exporter": "python",
   "pygments_lexer": "ipython3",
   "version": "3.12.2"
  }
 },
 "nbformat": 4,
 "nbformat_minor": 5
}
