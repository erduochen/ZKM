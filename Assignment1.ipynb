{
 "cells": [
  {
   "cell_type": "code",
   "execution_count": 3,
   "id": "0edf5b71-e6cb-47b7-b1da-0dd92b2e424a",
   "metadata": {},
   "outputs": [
    {
     "name": "stdout",
     "output_type": "stream",
     "text": [
      "A non-trivial factor of 8051 is: 97\n"
     ]
    }
   ],
   "source": [
    "import numpy as np\n",
    "\n",
    "def is_prime_power(n):\n",
    "    if n < 2:\n",
    "        return False\n",
    "    for i in range(2, int(np.sqrt(n)) + 1):\n",
    "        if n % i == 0:\n",
    "            count = 0\n",
    "            while n % i == 0:\n",
    "                n //= i\n",
    "                count += 1\n",
    "            if n == 1:\n",
    "                return count > 1\n",
    "            else:\n",
    "                return False\n",
    "    return True\n",
    "\n",
    "def factorize(n):\n",
    "    if is_prime_power(n):\n",
    "        return None  # Input is a prime power, cannot factorize\n",
    "\n",
    "    a, b = 2, 2\n",
    "    while True:\n",
    "        a = (a**2 + 1) % n\n",
    "        b = (b**2 + 1) % n\n",
    "        b = (b**2 + 1) % n\n",
    "        d = np.gcd(a - b, n)\n",
    "        if 1 < d < n:\n",
    "            return d\n",
    "        if d == n:\n",
    "            return None\n",
    "\n",
    "# Test the algorithm\n",
    "n = 8051\n",
    "factor = factorize(n)\n",
    "if factor is None:\n",
    "    print(\"Input is a prime power.\")\n",
    "else:\n",
    "    print(\"A non-trivial factor of\", n, \"is:\", factor)\n"
   ]
  },
  {
   "cell_type": "code",
   "execution_count": 4,
   "id": "e4998e3f-4a94-4034-8d70-a6e36e588e7c",
   "metadata": {},
   "outputs": [
    {
     "name": "stdout",
     "output_type": "stream",
     "text": [
      "The discrete logarithm x = log 5 8 = 22\n"
     ]
    }
   ],
   "source": [
    "def discrete_log(alpha, beta, n):\n",
    "    x, a, b = 1, 0, 0\n",
    "    x2, a2, b2 = 1, 0, 0\n",
    "\n",
    "    while True:\n",
    "        # Compute xi, ai, bi and x2i, a2i, b2i\n",
    "        x = (x * alpha) % n\n",
    "        a = (a + 1) % n\n",
    "        b = (b + beta) % n\n",
    "        x2 = (x2 * alpha) % n\n",
    "        a2 = (a2 + 1) % n\n",
    "        b2 = (b2 + beta) % n\n",
    "        x2 = (x2 * alpha) % n\n",
    "        a2 = (a2 + 1) % n\n",
    "        b2 = (b2 + beta) % n\n",
    "\n",
    "        # Check if xi equals x2i\n",
    "        if x == x2:\n",
    "            r = (b - b2) % n\n",
    "            if r == 0:\n",
    "                return None  # Terminate with failure\n",
    "            else:\n",
    "                inverse_x = pow(x, -1, n)\n",
    "                result = (a2 - a) * inverse_x % n\n",
    "                return result\n",
    "\n",
    "# Example usage\n",
    "n = 23  # Prime order of the cyclic group\n",
    "alpha = 5  # Generator of the cyclic group\n",
    "beta = 8  # Element in the cyclic group\n",
    "result = discrete_log(alpha, beta, n)\n",
    "if result is None:\n",
    "    print(\"Failure: r = 0\")\n",
    "else:\n",
    "    print(\"The discrete logarithm x = log\", alpha, beta, \"=\", result)\n"
   ]
  },
  {
   "cell_type": "code",
   "execution_count": null,
   "id": "ae70ea4e-945a-44fe-b14f-0b1e31df0a0b",
   "metadata": {},
   "outputs": [],
   "source": []
  }
 ],
 "metadata": {
  "kernelspec": {
   "display_name": "Python 3 (ipykernel)",
   "language": "python",
   "name": "python3"
  },
  "language_info": {
   "codemirror_mode": {
    "name": "ipython",
    "version": 3
   },
   "file_extension": ".py",
   "mimetype": "text/x-python",
   "name": "python",
   "nbconvert_exporter": "python",
   "pygments_lexer": "ipython3",
   "version": "3.12.2"
  }
 },
 "nbformat": 4,
 "nbformat_minor": 5
}
